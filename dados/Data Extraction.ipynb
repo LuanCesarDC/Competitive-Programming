{
 "cells": [
  {
   "cell_type": "code",
   "execution_count": 7,
   "id": "bdcd84aa",
   "metadata": {},
   "outputs": [
    {
     "name": "stdout",
     "output_type": "stream",
     "text": [
      "PDF gerado com sucesso: conteudo_da_classe_content.pdf\n"
     ]
    }
   ],
   "source": [
    "import requests\n",
    "from bs4 import BeautifulSoup\n",
    "from reportlab.lib.pagesizes import letter\n",
    "from reportlab.pdfgen import canvas\n",
    "\n",
    "# URL da página que você deseja extrair\n",
    "url = 'https://codeforces.com/blog/entry/120353'\n",
    "\n",
    "# Faz a solicitação HTTP para a página\n",
    "response = requests.get(url)\n",
    "\n",
    "# Verifica se a solicitação foi bem-sucedida\n",
    "if response.status_code == 200:\n",
    "    # Extrai o conteúdo HTML da página\n",
    "    html = response.text\n",
    "\n",
    "    # Use o BeautifulSoup para analisar o HTML\n",
    "    soup = BeautifulSoup(html, 'html.parser')\n",
    "\n",
    "    # Encontre todos os elementos com a classe 'content'\n",
    "    content_elements = soup.find_all(class_='content')\n",
    "\n",
    "    # Crie um arquivo PDF e adicione o conteúdo extraído\n",
    "    pdf_filename = 'conteudo_da_classe_content.pdf'\n",
    "    c = canvas.Canvas(pdf_filename, pagesize=letter)\n",
    "\n",
    "    # Itere pelos elementos encontrados e adicione-os ao PDF\n",
    "    for element in content_elements:\n",
    "        content_text = element.get_text()\n",
    "        c.drawString(100, 750, content_text)\n",
    "        c.showPage()\n",
    "\n",
    "    # Fecha o arquivo PDF\n",
    "    c.save()\n",
    "\n",
    "    print(f'PDF gerado com sucesso: {pdf_filename}')\n",
    "\n",
    "else:\n",
    "    print(f'Falha ao fazer a solicitação HTTP. Código de status: {response.status_code}')\n"
   ]
  },
  {
   "cell_type": "code",
   "execution_count": 6,
   "id": "de9f7d23",
   "metadata": {},
   "outputs": [
    {
     "data": {
      "text/plain": [
       "'Codeforces Round #897 (Div. 2) Editorial - Codeforces'"
      ]
     },
     "execution_count": 6,
     "metadata": {},
     "output_type": "execute_result"
    }
   ],
   "source": [
    "soup.title.string"
   ]
  }
 ],
 "metadata": {
  "kernelspec": {
   "display_name": "Python 3 (ipykernel)",
   "language": "python",
   "name": "python3"
  },
  "language_info": {
   "codemirror_mode": {
    "name": "ipython",
    "version": 3
   },
   "file_extension": ".py",
   "mimetype": "text/x-python",
   "name": "python",
   "nbconvert_exporter": "python",
   "pygments_lexer": "ipython3",
   "version": "3.10.12"
  }
 },
 "nbformat": 4,
 "nbformat_minor": 5
}
